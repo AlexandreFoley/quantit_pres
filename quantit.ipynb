{
 "cells": [
  {
   "cell_type": "code",
   "execution_count": 51,
   "metadata": {},
   "outputs": [],
   "source": [
    "try:\n",
    "\timport google.colab\n",
    "\t!apt update",
    "\t!apt install libstdc++-9-dev",
    "\t!pip install --upgrade pip https://github.com/AlexandreFoley/QuantiT/releases/download/v0.1.1/quantit-0.1.1-cp37-cp37m-linux_x86_64.whl\n",
    "except:\n",
    "\tpass"
   ]
  },
  {
   "cell_type": "code",
   "execution_count": 1,
   "metadata": {},
   "outputs": [],
   "source": [
    "import quantit as qtt\n",
    "import torch\n",
    "no_gpu_warning = torch.rand([],device = torch.device('cuda'))"
   ]
  },
  {
   "cell_type": "markdown",
   "metadata": {},
   "source": [
    "# QuantiT\n",
    "\n",
    "QuantiT is an open-source library that implements tensors with conservation laws, selection rules and algorithms to manipulate such tensors. Such tensors are commonly used in tensor network computations to exploit the symmetries of a problem in order to increase the efficiency and the accuracy of a simulation.\n",
    "\n",
    "QuantiT is implemented in C++ and offers a python interface as well. Because its tensor implementation is backed by pytorch's tensors, computation can easily be done on any backend supported by pytorch, such as GPUs and CPUs.\n"
   ]
  },
  {
   "cell_type": "markdown",
   "metadata": {},
   "source": [
    "## Why Tensor Networks?\n",
    "\n",
    "Tensor networks allow us to work with a compressed representation of wave functions and operators. A well-designed tensor network allows us to work and optimize the compressed representation without doing a complete decompression. It has proven successful so far: there are many commonly used networks that are applied to problems for which storing a complete representation of a wave function would require several orders of magnitude more memory than there is on earth.\n",
    "\n",
    "Let us first explain the basic of tensors, the graphical notation and then explore two of the simplest tensor networks: the matrix product state and the matrix product operator.\n",
    "\n",
    "### Tensors and the graphical notation\n",
    "\n",
    "Tensor are objects that exist in vector spaces. Tensors can be represented by a multidimensional table of coefficients. Vector and matrices are examples of rank-1 and rank-2 tensors, respectively.\n",
    "A tensor can be drawn as a box with as many legs as it has indices.\n",
    "\n",
    "<img src=\"tikzfigs/Figs-figure0.svg?1\" alt=\"Vector\" height=\"75\"> &emsp; &emsp; &emsp;\n",
    "<img src=\"tikzfigs/Figs-figure1.svg?1\" alt=\"Matrice\" height=\"75\"> &emsp; &emsp; &emsp;\n",
    "<img src=\"tikzfigs/Figs-figure2.svg?1\" alt=\"Rank 3 tensor\" height=\"150\">\n",
    "\n",
    "The matrix-vector product can be drawn like so:\n",
    "\n",
    "<img src=\"tikzfigs/Figs-figure3.svg?1\" alt=\"produit\" height=\"75\"> &emsp; &emsp; &emsp;\n",
    "\n",
    "The shared leg between the two tensors represents an index that is summed over. In standard equation form, this would be \n",
    "$$ \\sum_{ij} M_{ij} V_j |i\\rangle $$ \n",
    "where $|i\\rangle$ is the working basis set.\n",
    "\n",
    "Higher-rank tensors can be constructed from the contraction of several lower-rank tensors. Consider the following example:\n",
    "\n",
    "<img src=\"tikzfigs/Figs-figure4.svg?1\" alt=\"état\" height=\"150\">\n",
    "\n",
    "The network on the left has $2d\\chi + 2d\\chi^2$ coefficients while the left has $d^4$, where $d$ is the dimension of the indices labelled $i,j,k,l$ and $\\chi$ the dimension of the contracted indices. In essence, the network on the left is a parametrization with a polynomial number of coefficients of a wave function in a Hilbert space of size (or dimension) $d^4$.\n"
   ]
  },
  {
   "cell_type": "markdown",
   "metadata": {},
   "source": [
    "## Fermions and tensor networks\n",
    "\n",
    "The Pauli exclusion principle makes the numerical representation of fermionic quantites a bit trickier than for bosons.\n",
    "Pauli's principle translates mathematically into anticommutation relations for the annihilation and creation operators.\n",
    "In turn, this creates two requirements for a numerical representation: a conventional ordering of sites and a non-local action for the operators.\n",
    "\n",
    "When using tensor networks, we need a perfectly local representation for all our operators. Therefore, we must break apart the creation and annihilation operator into a combination of local components.\n",
    "\n",
    "Let us consider the spin-half case. Consider the annihilation and creation operators $c_{i\\sigma}$ and $c_{i\\sigma}^\\dagger$ where $i$ is the site index, and $\\sigma$ the spin index.\n",
    "The anticommutation relations are $\\{c^\\dagger_{i\\sigma},c_{j\\sigma'}\\} = \\delta_{ij}\\delta_{\\sigma\\sigma'}$ and $\\{c_{i\\sigma},c_{j\\sigma'}\\} = 0$\n",
    "\n",
    "We break the operator apart like so:\n",
    "\n",
    "$ c_{i\\sigma} = (\\prod_{j=0}^{i-1} F_j)\\tilde{c}_{i\\sigma}$ \n",
    "\n",
    "\n",
    "where both $F_j$ and $\\tilde{c}_{i\\sigma}$ are completely local operators, meaning that they **commute** with any local operator that has a different position in space. \n",
    "In order to maintain the canonical anticomutation relations, we find that $\\tilde{c}_{j\\sigma}$ must anticommute with $F_j$, $\\tilde{c}_{j\\sigma}^2 = 0$, $F_i^2 = I$ and $\\{\\tilde{c}^\\dagger_{j\\sigma},\\tilde{c}_{j\\sigma'}\\} = \\delta_{\\sigma\\sigma'}$\n",
    "\n",
    "Putting all that together, we find that the solution for spin half fermions is this:"
   ]
  },
  {
   "cell_type": "code",
   "execution_count": 2,
   "metadata": {},
   "outputs": [
    {
     "name": "stdout",
     "output_type": "stream",
     "text": [
      "c_up\n",
      " tensor([[0, 1, 0, 0],\n",
      "        [0, 0, 0, 0],\n",
      "        [0, 0, 0, 1],\n",
      "        [0, 0, 0, 0]], dtype=torch.int8)\n",
      "c_dn\n",
      " tensor([[ 0,  0,  1,  0],\n",
      "        [ 0,  0,  0, -1],\n",
      "        [ 0,  0,  0,  0],\n",
      "        [ 0,  0,  0,  0]], dtype=torch.int8)\n",
      "F\n",
      " tensor([[ 1,  0,  0,  0],\n",
      "        [ 0, -1,  0,  0],\n",
      "        [ 0,  0, -1,  0],\n",
      "        [ 0,  0,  0,  1]], dtype=torch.int8)\n"
     ]
    }
   ],
   "source": [
    "c_up,c_dn,F,id = qtt.operators.fermions()\n",
    "c_dag_up = c_up.conj().permute([1,0])\n",
    "c_dag_dn = c_dn.conj().permute([1,0])\n",
    "print(\"c_up\\n\",c_up)\n",
    "print(\"c_dn\\n\",c_dn)\n",
    "print(\"F\\n\",F)"
   ]
  },
  {
   "cell_type": "markdown",
   "metadata": {},
   "source": [
    "With those constructs, we find that the fermion number operators are unchanged by the decomposition, and that hopping terms have a string of $F$ operators between the 2 sites of the hop:\n",
    "$c_{i\\sigma}^\\dagger c_{j\\sigma} = \\tilde{c}_{i\\sigma}^\\dagger \\left(\\prod_{k=\\mathrm{min}(i,j)}^{k < \\mathrm{max}(i,j)}F_k\\right) \\tilde{c}_{j\\sigma}$.\n",
    "\n",
    "First neighbour hops are then $\\tilde{c}_{i\\sigma}^\\dagger F_i \\tilde{c}_{i+1,\\sigma}$\n"
   ]
  },
  {
   "cell_type": "markdown",
   "metadata": {},
   "source": [
    "## Symmetries and conservation laws\n",
    "\n",
    "Conservation laws can be taken into account explicitly by tensor network methods. Doing so requires enforcing and tracking the conserved quantities inside all tensors that make up a network.\n",
    "\n",
    "For Abelian conserved quantities, such as particle number or $z$ spin component, doing so leads to a (hyper-) block structure in the tensor. We proceed by assigning a conserved quantity to each possible index of each dimension of the tensor and an overall selection rule must be assigned to the tensor as a whole. Let's consider examples with spin-half fermions:\n",
    "\n",
    " &emsp; <img src=\"tikzfigs/Figs-figure6.svg?1\" alt=\"état\" height=\"250\">\n",
    "<img src=\"tikzfigs/Figs-figure7.svg?1\" alt=\"état\" height=\"290\">\n",
    "\n",
    "The number inside each block is the selection rule that allows non-zero elements inside the block.\n",
    "The particle number assigned to bras has to be the opposite of those assigned to the corresponding kets.\n",
    "Each rank of the tensor has 3 sections: one of size 1 for the empty state, one of size 2 for the single-particle states and one of size 1 for the 2-particle state.\n",
    "\n",
    "Quantit allows you to create the local fermions operators by specifying the conserved value you want to associate with each index. In the following example with assign"
   ]
  },
  {
   "cell_type": "code",
   "execution_count": 3,
   "metadata": {},
   "outputs": [
    {
     "name": "stdout",
     "output_type": "stream",
     "text": [
      "btensor rank 1\n",
      " selection rule [Z(0)]\n",
      " number of sections by dim [3]\n",
      " sections sizes [1, 2, 1]\n",
      " sections conserved quantity [[Z(0)], [Z(1)], [Z(2)]]\n",
      "\n",
      "c_up\n",
      " btensor rank 2\n",
      " selection rule [Z(-1)]\n",
      " number of sections by dim [3, 3]\n",
      " sections sizes [1, 2, 1, 1, 2, 1]\n",
      " sections conserved quantity [[Z(0)], [Z(1)], [Z(2)], [Z(0)], [Z(-1)], [Z(-2)]]\n",
      "block at [0, 1]\n",
      "  1  0\n",
      "[ CPUCharType(1,2) ]\n",
      "block at [1, 2]\n",
      "  0\n",
      " 1\n",
      "[ CPUCharType(2,1) ]\n",
      "\n",
      "c_dn\n",
      " btensor rank 2\n",
      " selection rule [Z(-1)]\n",
      " number of sections by dim [3, 3]\n",
      " sections sizes [1, 2, 1, 1, 2, 1]\n",
      " sections conserved quantity [[Z(0)], [Z(1)], [Z(2)], [Z(0)], [Z(-1)], [Z(-2)]]\n",
      "block at [0, 1]\n",
      "  0  1\n",
      "[ CPUCharType(1,2) ]\n",
      "block at [1, 2]\n",
      " -1\n",
      " 0\n",
      "[ CPUCharType(2,1) ]\n",
      "\n",
      "F\n",
      " btensor rank 2\n",
      " selection rule [Z(0)]\n",
      " number of sections by dim [3, 3]\n",
      " sections sizes [1, 2, 1, 1, 2, 1]\n",
      " sections conserved quantity [[Z(0)], [Z(1)], [Z(2)], [Z(0)], [Z(-1)], [Z(-2)]]\n",
      "block at [0, 0]\n",
      "  1\n",
      "[ CPUCharType(1,1) ]\n",
      "block at [1, 1]\n",
      " -1  0\n",
      " 0 -1\n",
      "[ CPUCharType(2,2) ]\n",
      "block at [2, 2]\n",
      "  1\n",
      "[ CPUCharType(1,1) ]\n",
      "\n"
     ]
    }
   ],
   "source": [
    "pnum = qtt.conserved.Z;\n",
    "HS = qtt.btensor([[[1,pnum(0)],[2,pnum(1)],[1,pnum(2)]]],pnum(0))\n",
    "print(HS)\n",
    "\n",
    "c_up,c_dn,F,id = qtt.operators.fermions(qtt.shape_from([HS,HS.conj()]))\n",
    "c_dag_up = c_up.conj().permute([1,0])\n",
    "c_dag_dn = c_dn.conj().permute([1,0])\n",
    "print(\"c_up\\n\",c_up)\n",
    "print(\"c_dn\\n\",c_dn)\n",
    "print(\"F\\n\",F)"
   ]
  },
  {
   "cell_type": "markdown",
   "metadata": {},
   "source": [
    "## Building a MPO\n",
    "\n",
    "Let's put all this together to build a MPO. The usual strategy when manually building a MPO is to view the rank 4 tensors that make it up as a matrix of quantum operators, inserting elements in it such that a matrix product of many such matrices accumulates the Hamiltonian in the lower left corner.\n",
    "\n",
    "Within this framework, a translation invariant 1D Hubbard hamiltonian can be built from the following matrix of operators:\n",
    "\n",
    "$$\n",
    "H = \\sum_{i \\sigma}\\left( -t (c^\\dagger_{i\\sigma} c_{i+1,\\sigma} + c^\\dagger_{i+1,\\sigma}c_{i\\sigma}) -\\mu n_{i\\sigma} + \\frac{U}{2} n_{i\\uparrow}n_{i\\downarrow} \\right)\n",
    "$$\n",
    "\n",
    "$$\n",
    "\\newcommand{\\Id}{\\unicode{x1d7d9}}\n",
    "T_i = \\begin{array}{ c c c c c c}\n",
    " I & 0 & 0 & 0 & 0 & 0 \\\\\n",
    " \\tilde{c}_{i\\uparrow} & 0 & 0 & 0 & 0  & 0 \\\\\n",
    " \\tilde{c}_{i\\downarrow} & 0 & 0 & 0 & 0  & 0 \\\\\n",
    " \\tilde{c}_{i\\uparrow}^\\dagger & 0 & 0 & 0 & 0  & 0 \\\\\n",
    " \\tilde{c}_{i\\downarrow}^\\dagger & 0 & 0 & 0 & 0  & 0 \\\\\n",
    " U n_{i\\uparrow} n_{i\\downarrow} - \\mu (n_{i\\uparrow} + n_{i\\downarrow}) \n",
    " & t  F_i \\tilde{c}^\\dagger_{i\\uparrow} & t F_i \\tilde{c}_{i\\downarrow}^\\dagger  \n",
    " & t \\tilde{c}_{i\\uparrow} F_i & t \\tilde{c}_{i\\downarrow} F_i & I \\\\\n",
    "\\end{array}\n",
    "$$\n",
    "\n",
    "and the lower left corner of $T_i T_{i+1}$ is $ \\sum_{j = i}^{i+1} \\left( U n_{j\\uparrow} n_{j\\downarrow} - \\mu (n_{j\\uparrow} + n_{j\\downarrow})\\right) + \\sum_\\sigma -t \\left( \\tilde{c}_{i\\sigma}^\\dagger F_i \\tilde{c}_{i+1,\\sigma}  + \\tilde{c}_{i+1\\sigma}^\\dagger F_{i} \\tilde{c}_{i,\\sigma}\\right).$\n",
    "\n",
    "We will now construct this tensor using Quantit's tools.\n",
    "\n",
    "To do so we must first identify the conserved quantity to assign to each index. A conserving Hamiltonian always leaves a conserved quantity unchanged, its overall selection rule must be 0 in this case. What goes on the bonds is the inverse of the selection rule of the operator we have put there. \n",
    "The row must then have [0,1,1,-1,-1,0] and the columns [0,-1,-1,1,1,0]\n"
   ]
  },
  {
   "cell_type": "code",
   "execution_count": 4,
   "metadata": {},
   "outputs": [
    {
     "name": "stdout",
     "output_type": "stream",
     "text": [
      "btensor rank 4\n",
      " selection rule [Z(0)]\n",
      " number of sections by dim [4, 3, 4, 3]\n",
      " sections sizes [1, 2, 2, 1, 1, 2, 1, 1, 2, 2, 1, 1, 2, 1]\n",
      " sections conserved quantity [[Z(0)], [Z(1)], [Z(-1)], [Z(0)], [Z(0)], [Z(1)], [Z(2)], [Z(0)], [Z(-1)], [Z(1)], [Z(0)], [Z(0)], [Z(-1)], [Z(-2)]]\n",
      "block at [0, 0, 0, 0]\n",
      " (1,1,.,.) = \n",
      "  1\n",
      "[ CPUFloatType(1,1,1,1) ]\n",
      "block at [0, 1, 0, 1]\n",
      " (1,1,.,.) = \n",
      "  1  0\n",
      "\n",
      "(1,2,.,.) = \n",
      "  0  1\n",
      "[ CPUFloatType(1,2,1,2) ]\n",
      "block at [0, 2, 0, 2]\n",
      " (1,1,.,.) = \n",
      "  1\n",
      "[ CPUFloatType(1,1,1,1) ]\n",
      "block at [1, 0, 0, 1]\n",
      " (1,1,.,.) = \n",
      "  1  0\n",
      "\n",
      "(2,1,.,.) = \n",
      "  0  1\n",
      "[ CPUFloatType(2,1,1,2) ]\n",
      "block at [1, 1, 0, 2]\n",
      " (1,1,.,.) = \n",
      "  0\n",
      "\n",
      "(2,1,.,.) = \n",
      " -1\n",
      "\n",
      "(1,2,.,.) = \n",
      "  1\n",
      "\n",
      "(2,2,.,.) = \n",
      "  0\n",
      "[ CPUFloatType(2,2,1,1) ]\n",
      "block at [2, 1, 0, 0]\n",
      " (1,1,.,.) = \n",
      "  1\n",
      "\n",
      "(2,1,.,.) = \n",
      "  0\n",
      "\n",
      "(1,2,.,.) = \n",
      "  0\n",
      "\n",
      "(2,2,.,.) = \n",
      "  1\n",
      "[ CPUFloatType(2,2,1,1) ]\n",
      "block at [2, 2, 0, 1]\n",
      " (1,1,.,.) = \n",
      "  0  1\n",
      "\n",
      "(2,1,.,.) = \n",
      " -1  0\n",
      "[ CPUFloatType(2,1,1,2) ]\n",
      "block at [3, 0, 2, 1]\n",
      " (1,1,.,.) = \n",
      " -1  0\n",
      "  0 -1\n",
      "[ CPUFloatType(1,1,2,2) ]\n",
      "block at [3, 0, 3, 0]\n",
      " (1,1,.,.) = \n",
      "  1\n",
      "[ CPUFloatType(1,1,1,1) ]\n",
      "block at [3, 1, 0, 1]\n",
      " (1,1,.,.) = \n",
      " -3  0\n",
      "\n",
      "(1,2,.,.) = \n",
      "  0 -3\n",
      "[ CPUFloatType(1,2,1,2) ]\n",
      "block at [3, 1, 1, 0]\n",
      " (1,1,.,.) = \n",
      " -1\n",
      "  0\n",
      "\n",
      "(1,2,.,.) = \n",
      "  0\n",
      " -1\n",
      "[ CPUFloatType(1,2,2,1) ]\n",
      "block at [3, 1, 2, 2]\n",
      " (1,1,.,.) = \n",
      "  0\n",
      " -1\n",
      "\n",
      "(1,2,.,.) = \n",
      "  1\n",
      "  0\n",
      "[ CPUFloatType(1,2,2,1) ]\n",
      "block at [3, 1, 3, 1]\n",
      " (1,1,.,.) = \n",
      "  1  0\n",
      "\n",
      "(1,2,.,.) = \n",
      "  0  1\n",
      "[ CPUFloatType(1,2,1,2) ]\n",
      "block at [3, 2, 0, 2]\n",
      " (1,1,.,.) = \n",
      "  0\n",
      "[ CPUFloatType(1,1,1,1) ]\n",
      "block at [3, 2, 1, 1]\n",
      " (1,1,.,.) = \n",
      "  0  1\n",
      " -1  0\n",
      "[ CPUFloatType(1,1,2,2) ]\n",
      "block at [3, 2, 3, 2]\n",
      " (1,1,.,.) = \n",
      "  1\n",
      "[ CPUFloatType(1,1,1,1) ]\n",
      "\n"
     ]
    }
   ],
   "source": [
    "# constant values for the Hubbard hamiltonian\n",
    "U = qtt.full([],pnum(0),6)\n",
    "mu = qtt.full([],pnum(0),3)\n",
    "t = qtt.full([],pnum(0),1)\n",
    "\n",
    "leftbond = qtt.btensor([[[1,pnum(0)],[2,pnum(1)],[2,pnum(-1)],[1,pnum(0)]]],pnum(0))\n",
    "rightbond = leftbond.conj()\n",
    "\n",
    "T = qtt.shape_from([leftbond,HS,rightbond,HS.conj()])\n",
    "\n",
    "n_up = c_dag_up.bmm(c_up)\n",
    "n_dn = c_dag_dn.bmm(c_dn)\n",
    "\n",
    "\n",
    "H_l = -mu * (n_up + n_dn) + U*(n_up.bmm(n_dn))\n",
    "\n",
    "T.basic_index_put_([0,-1,0,-1], id)\n",
    "T.basic_index_put_([1,-1,0,-1], c_up)\n",
    "T.basic_index_put_([2,-1,0,-1], c_dn)\n",
    "T.basic_index_put_([3,-1,0,-1], c_dag_up)\n",
    "T.basic_index_put_([4,-1,0,-1], c_dag_dn)\n",
    "T.basic_index_put_([5,-1,0,-1], H_l)\n",
    "T.basic_index_put_([5,-1,1,-1], t*F.bmm(c_dag_up))\n",
    "T.basic_index_put_([5,-1,2,-1], t*F.bmm(c_dag_dn))\n",
    "T.basic_index_put_([5,-1,3,-1], t*qtt.bmm(c_up,F))\n",
    "T.basic_index_put_([5,-1,4,-1], t*qtt.bmm(c_dn,F))\n",
    "T.basic_index_put_([5,-1,5,-1], id)\n",
    "\n",
    "print(T)"
   ]
  },
  {
   "cell_type": "markdown",
   "metadata": {},
   "source": [
    "## The Density Matrix Renormalization Group (DMRG)\n",
    "\n",
    "DMRG is perhaps the simplest tensor network method. In the tensor network formalism, it optimizes a matrix product state such that it minimizes the energy of a hamiltonian encoded as a MPO.\n",
    "\n",
    "This method accomplishes its objective by optimizing the MPS one tensor at a time using a clever trick. The presence of bonds in the MPS representation of the state gives us a lot of extra gauge degrees of freedom. By choosing the \"canonical\" gauge, the optimal solution to any single tensor is the solution of an eigenvalue problem.\n",
    "\n",
    "The canonical gauge is such that all the MPS's tensors but one are isometric. The one tensor that isn't isometric is called the orthogonality centre of the MPS. In the following sketch of a canonical MPS\n",
    "\n",
    "<img src=\"tikzfigs/Figs-figure8.svg?1\" alt=\"état\" height=\"90\">\n",
    "\n",
    "The orthogonality centre is located at site 2, the tensors labelled $A$ are left-isometric and $B$ are right-isometric. This means that the following contraction trivially reduces to the identity:\n",
    "\n",
    "<img src=\"tikzfigs/Figs-figure9.svg?1\" alt=\"état\" height=\"180\"> &emsp; <img src=\"tikzfigs/Figs-figure10.svg?1\" alt=\"état\" height=\"180\">\n",
    "\n",
    "The minimization problem at the orthogonality centre then becomes quite simple:\n",
    "\n",
    " <img src=\"tikzfigs/Figs-figure11.svg?1\" alt=\"état\" height=\"270\">\n",
    "\n",
    "The solution of this minimization problem is an eigenvalue problem.\n",
    "\n",
    "DMRG uses this identity to efficiently update the orthogonality centre of the MPS, and moves the orthogonality centre from site to site in order to optimize every tensor of the MPS."
   ]
  },
  {
   "cell_type": "code",
   "execution_count": 55,
   "metadata": {},
   "outputs": [
    {
     "name": "stdout",
     "output_type": "stream",
     "text": [
      "\u001b[0;31mType:\u001b[0m           dmrg_options\n",
      "\u001b[0;31mString form:\u001b[0m    <quantit.quantit.algorithms.dmrg_options object at 0x7f6eb9acb670>\n",
      "\u001b[0;31mDocstring:\u001b[0m      <no docstring>\n",
      "\u001b[0;31mInit docstring:\u001b[0m __init__(self: quantit.quantit.algorithms.dmrg_options, *, cutoff: float = 1e-06, convergence_criterion: float = 1e-05, max_bond: int = 18446744073709551615, min_bond: int = 4, maximum_iterations: int = 1000, state_gradient: bool = False, hamil_gradient: bool = False) -> None\n"
     ]
    }
   ],
   "source": [
    "H = qtt.networks.bMPO(20,T)\n",
    "H[0] = H[0].basic_create_view([5,-1,-1,-1],preserve_rank=True)\n",
    "H[19] = H[19].basic_create_view([-1,-1,0,-1],preserve_rank=True)\n",
    "H.coalesce()\n",
    "\n",
    "opt = qtt.algorithms.dmrg_options(convergence_criterion=1e-3)\n",
    "opt?\n",
    "E,psi = qtt.algorithms.dmrg(H,pnum(20),opt)\n"
   ]
  },
  {
   "cell_type": "code",
   "execution_count": 6,
   "metadata": {},
   "outputs": [
    {
     "name": "stdout",
     "output_type": "stream",
     "text": [
      "[1, 4, 4]\n",
      "[4, 4, 16]\n",
      "[16, 4, 64]\n",
      "[64, 4, 148]\n",
      "[148, 4, 202]\n",
      "[202, 4, 231]\n",
      "[231, 4, 244]\n",
      "[244, 4, 267]\n",
      "[267, 4, 263]\n",
      "[263, 4, 280]\n",
      "[280, 4, 264]\n",
      "[264, 4, 266]\n",
      "[266, 4, 245]\n",
      "[245, 4, 231]\n",
      "[231, 4, 206]\n",
      "[206, 4, 148]\n",
      "[148, 4, 64]\n",
      "[64, 4, 16]\n",
      "[16, 4, 4]\n",
      "[4, 4, 1]\n",
      "E =  -68.1361083984375\n"
     ]
    }
   ],
   "source": [
    "for a in psi:\n",
    "\tprint(a.sizes())\n",
    "\n",
    "print(\"E = \", E.item())"
   ]
  },
  {
   "cell_type": "markdown",
   "metadata": {},
   "source": [
    "# And now, on the GPU!\n",
    "\n",
    "Caution mac users, you likely don't have a cuda device."
   ]
  },
  {
   "cell_type": "code",
   "execution_count": 10,
   "metadata": {},
   "outputs": [],
   "source": [
    "H_gpu = H.to(torch.float32,device = torch.device('cuda'))"
   ]
  },
  {
   "cell_type": "code",
   "execution_count": 48,
   "metadata": {},
   "outputs": [
    {
     "name": "stdout",
     "output_type": "stream",
     "text": [
      "[1, 4, 4]\n",
      "[4, 4, 16]\n",
      "[16, 4, 61]\n",
      "[61, 4, 141]\n",
      "[141, 4, 193]\n",
      "[193, 4, 219]\n",
      "[219, 4, 234]\n",
      "[234, 4, 249]\n",
      "[249, 4, 247]\n",
      "[247, 4, 253]\n",
      "[253, 4, 242]\n",
      "[242, 4, 245]\n",
      "[245, 4, 233]\n",
      "[233, 4, 218]\n",
      "[218, 4, 191]\n",
      "[191, 4, 141]\n",
      "[141, 4, 62]\n",
      "[62, 4, 16]\n",
      "[16, 4, 4]\n",
      "[4, 4, 1]\n",
      "E =  -68.13592529296875\n"
     ]
    }
   ],
   "source": [
    "E_gpu,psi_gpu = qtt.algorithms.dmrg(H,pnum(20),opt)\n",
    "for a in psi_gpu:\n",
    "\tprint(a.sizes())\n",
    "\n",
    "print(\"E = \", E_gpu.item())"
   ]
  },
  {
   "cell_type": "markdown",
   "metadata": {},
   "source": [
    "## Computation of average values\n",
    "\n",
    "\n",
    "Quantit offers tools to compute the average value of a MPO. The function *contract* from the *networks* submodule can compute expectation values of MPO's within a MPS."
   ]
  },
  {
   "cell_type": "code",
   "execution_count": 7,
   "metadata": {},
   "outputs": [
    {
     "name": "stdout",
     "output_type": "stream",
     "text": [
      "<H> =  -68.13626861572266\n"
     ]
    }
   ],
   "source": [
    "avg_H = qtt.networks.contract(psi,psi,H)\n",
    "print(\"<H> = \",avg_H.item())"
   ]
  },
  {
   "cell_type": "markdown",
   "metadata": {},
   "source": [
    "We can take advantage of the canonical representation of the MPS to compute a local observable faster. Let us consider the following example: the contribution of any two sites to the kinetic energy.\n",
    "\n",
    "We first build the two site MPO for it."
   ]
  },
  {
   "cell_type": "code",
   "execution_count": 8,
   "metadata": {},
   "outputs": [
    {
     "name": "stdout",
     "output_type": "stream",
     "text": [
      "\n"
     ]
    }
   ],
   "source": [
    "\n",
    "kin_bond = qtt.btensor([[[2,pnum(1)],[2,pnum(-1)]]],pnum(0))\n",
    "Kin_2s_left = qtt.shape_from([HS,kin_bond,HS.conj()])\n",
    "Kin_2s_right = qtt.shape_from([kin_bond.conj(),HS,HS.conj()])\n",
    "Kin_2s_left.basic_index_put_([-1,0,-1],c_up)\n",
    "Kin_2s_left.basic_index_put_([-1,1,-1],c_dn)\n",
    "Kin_2s_left.basic_index_put_([-1,2,-1],c_dag_up)\n",
    "Kin_2s_left.basic_index_put_([-1,3,-1],c_dag_dn)\n",
    "Kin_2s_right.basic_index_put_([0,-1,-1],t*F.bmm(c_dag_up))\n",
    "Kin_2s_right.basic_index_put_([1,-1,-1],t*F.bmm(c_dag_dn))\n",
    "Kin_2s_right.basic_index_put_([2,-1,-1],t*qtt.bmm(c_up,F))\n",
    "Kin_2s_right.basic_index_put_([3,-1,-1],t*qtt.bmm(c_dn,F))\n",
    "\n",
    "print()"
   ]
  },
  {
   "cell_type": "markdown",
   "metadata": {},
   "source": [
    "We then move the orthogonality centre of the ground state to the target site, site 9 in this example."
   ]
  },
  {
   "cell_type": "code",
   "execution_count": 9,
   "metadata": {},
   "outputs": [
    {
     "name": "stdout",
     "output_type": "stream",
     "text": [
      "9\n"
     ]
    }
   ],
   "source": [
    "psi.move_oc(9)\n",
    "print(psi.orthogonality_center)"
   ]
  },
  {
   "cell_type": "markdown",
   "metadata": {},
   "source": [
    "We can then extract a two-site MPS from `psi`, and compute its kinetic energy."
   ]
  },
  {
   "cell_type": "code",
   "execution_count": 10,
   "metadata": {},
   "outputs": [
    {
     "name": "stdout",
     "output_type": "stream",
     "text": [
      "0.7353605031967163\n"
     ]
    }
   ],
   "source": [
    "\n",
    "\n",
    "\n",
    "K_89 = qtt.tensordot(psi[8],Kin_2s_left,dims=([1],[2]))\n",
    "K_89 = qtt.tensordot(K_89,psi[8].conj(),dims=([0,2],[0,1]))\n",
    "K_89 = qtt.tensordot(K_89,psi[9],dims=([0],[0]))\n",
    "K_89 = qtt.tensordot(K_89,Kin_2s_right,dims=([0,2],[0,2]))\n",
    "K_89 = qtt.tensordot(K_89,psi[9].conj(),dims=([0,1,2],[0,2,1]))\n",
    "\n",
    "print(K_89.item())\n"
   ]
  }
 ],
 "metadata": {
  "interpreter": {
   "hash": "9ca837fb18a45579a0202e4984e1cb487fce692c0fd801a466e53d66267a23a7"
  },
  "kernelspec": {
   "display_name": "Python 3.9.10 64-bit ('3.9-dev')",
   "language": "python",
   "name": "python3"
  },
  "language_info": {
   "codemirror_mode": {
    "name": "ipython",
    "version": 3
   },
   "file_extension": ".py",
   "mimetype": "text/x-python",
   "name": "python",
   "nbconvert_exporter": "python",
   "pygments_lexer": "ipython3",
   "version": "3.9.4"
  },
  "orig_nbformat": 4
 },
 "nbformat": 4,
 "nbformat_minor": 2
}
